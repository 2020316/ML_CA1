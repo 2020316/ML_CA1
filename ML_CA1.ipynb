{
 "cells": [
  {
   "cell_type": "markdown",
   "id": "a15ad5b1",
   "metadata": {},
   "source": [
    "                        CCT College Dublin\n",
    "\n",
    "Assessment Cover Page\n",
    "To be provided separately as a Word doc for students to include with every submission\n",
    "\n",
    "\n",
    "Module Title: Machine Learning for AI    \n",
    "Assessment Title: ML_CA1   \n",
    "Lecturer Name: David McQuaid   \n",
    "Student Full Name: Guilherme Bezerra de Oliveira   \n",
    "Student Number: 2020316   \n",
    "Assessment Due Date: Monday 22nd April at 23:59   \n",
    "Date of Submission: Monday 22nd April at 23:59   \n",
    "\n",
    "\n",
    "\n",
    "\n",
    "\n",
    "Declaration \n",
    "\t\t\t\n",
    "By submitting this assessment, I confirm that I have read the CCT policy on Academic Misconduct and understand the implications of submitting work that is not my own or does not appropriately reference material taken from a third party or other source. I declare it to be my work and that all material from third parties has been appropriately referenced. I further confirm that this work has not previously been submitted for assessment by myself or someone else in CCT College Dublin or any other higher education institution.\n",
    "\n"
   ]
  },
  {
   "cell_type": "markdown",
   "id": "6afd1951",
   "metadata": {},
   "source": [
    "GitHub link:   \n",
    "    https://github.com/2020316/ML_CA1.git"
   ]
  },
  {
   "cell_type": "markdown",
   "id": "16bf4a74",
   "metadata": {},
   "source": [
    "Scenario:  \n",
    "This is a data set which contains over 65K attempts to access a firewall. There is a single categorical feature “Action”, that contains 4 categories – “allow, deny, drop, reset-both”.\n",
    "Your task is to create a classification model that will predict the class of incoming traffic to the firewall. "
   ]
  },
  {
   "cell_type": "markdown",
   "id": "2d4b1e22",
   "metadata": {},
   "source": [
    "***"
   ]
  },
  {
   "cell_type": "markdown",
   "id": "49f9879d",
   "metadata": {},
   "source": [
    "Task 1   \n",
    "Perform an initial analysis of the data (EDA) using python in your Jupyter notebook. Discuss your findings and what relevance they might have on your planned classification algorithms. "
   ]
  },
  {
   "cell_type": "code",
   "execution_count": null,
   "id": "d0c852c8",
   "metadata": {},
   "outputs": [],
   "source": []
  },
  {
   "cell_type": "markdown",
   "id": "50844521",
   "metadata": {},
   "source": [
    "***"
   ]
  },
  {
   "cell_type": "markdown",
   "id": "a4d8fee8",
   "metadata": {},
   "source": [
    "Task 2   \n",
    "Perform any preparation of the data, that you feel is necessary, using python in your Jupyter notebook. Explain your rationale behind your data preparation and how it will assist you."
   ]
  },
  {
   "cell_type": "code",
   "execution_count": null,
   "id": "1945e9df",
   "metadata": {},
   "outputs": [],
   "source": []
  },
  {
   "cell_type": "markdown",
   "id": "57161fb7",
   "metadata": {},
   "source": [
    "***"
   ]
  },
  {
   "cell_type": "markdown",
   "id": "e1c8aa50",
   "metadata": {},
   "source": [
    "Task 3   \n",
    "Create and implement at least 2 classification algorithms that will output a classification based on the Action: (class attribute) feature. Test these models and try to improve it as you see fit. Discuss your findings and final rational for choosing a particular classification algorithm."
   ]
  },
  {
   "cell_type": "code",
   "execution_count": null,
   "id": "f251983c",
   "metadata": {},
   "outputs": [],
   "source": []
  },
  {
   "cell_type": "markdown",
   "id": "f329bfaf",
   "metadata": {},
   "source": [
    "***"
   ]
  },
  {
   "cell_type": "markdown",
   "id": "c76c9592",
   "metadata": {},
   "source": [
    "Task 4   \n",
    "Make a classification using your test data, using your final classification algorithm and comment on the accuracy differential between the training and testing set."
   ]
  },
  {
   "cell_type": "code",
   "execution_count": null,
   "id": "3d51b103",
   "metadata": {},
   "outputs": [],
   "source": []
  },
  {
   "cell_type": "markdown",
   "id": "9eadc040",
   "metadata": {},
   "source": [
    "***"
   ]
  },
  {
   "cell_type": "markdown",
   "id": "adde4cab",
   "metadata": {},
   "source": [
    "References   \n"
   ]
  },
  {
   "cell_type": "code",
   "execution_count": null,
   "id": "12721c23",
   "metadata": {},
   "outputs": [],
   "source": []
  },
  {
   "cell_type": "code",
   "execution_count": null,
   "id": "9d094536",
   "metadata": {},
   "outputs": [],
   "source": []
  }
 ],
 "metadata": {
  "kernelspec": {
   "display_name": "Python 3 (ipykernel)",
   "language": "python",
   "name": "python3"
  },
  "language_info": {
   "codemirror_mode": {
    "name": "ipython",
    "version": 3
   },
   "file_extension": ".py",
   "mimetype": "text/x-python",
   "name": "python",
   "nbconvert_exporter": "python",
   "pygments_lexer": "ipython3",
   "version": "3.11.5"
  }
 },
 "nbformat": 4,
 "nbformat_minor": 5
}
